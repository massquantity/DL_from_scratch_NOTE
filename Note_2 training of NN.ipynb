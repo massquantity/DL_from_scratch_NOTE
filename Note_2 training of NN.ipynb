{
 "cells": [
  {
   "cell_type": "code",
   "execution_count": 6,
   "metadata": {},
   "outputs": [],
   "source": [
    "import numpy as np\n",
    "import matplotlib.pyplot as plt\n",
    "%matplotlib inline"
   ]
  },
  {
   "cell_type": "markdown",
   "metadata": {},
   "source": [
    "<center>\n",
    "    <font size=6> **Recipe of Deep Learning** </font>\n",
    "</center>\n",
    "\n",
    "-----"
   ]
  },
  {
   "cell_type": "markdown",
   "metadata": {},
   "source": [
    "![](https://raw.githubusercontent.com/massquantity/DL_from_scratch_NOTE/master/pic/nn_training/1.png)"
   ]
  },
  {
   "cell_type": "markdown",
   "metadata": {},
   "source": [
    "<font size=2>\n",
    "其中 `Early Stopping，Regularization，Dropout` 用于解决过拟合 (high test error)，`New activation function，Adaptive Learning Rate` 用于解决欠拟合 (high training error)。\n",
    "</font>\n",
    "<br><br>"
   ]
  },
  {
   "cell_type": "markdown",
   "metadata": {},
   "source": [
    "<center>\n",
    "    <font size=6> **Optimizers** </font>\n",
    "</center>\n",
    "\n",
    "-----"
   ]
  },
  {
   "cell_type": "markdown",
   "metadata": {},
   "source": [
    "### SGD的缺点\n",
    "\n",
    "<br>\n",
    "\n",
    "<font size=2>\n",
    "    在下图中, SGD 呈“之”字形移动。这是一个相当低效的路径。也就是说,\n",
    "SGD 的缺点是,如果函数的形状非均向(anisotropic),比如呈延伸状,搜索\n",
    "的路径就会非常低效。因此,我们需要比单纯朝梯度方向前进的 SGD 更聪\n",
    "明的方法。SGD 低效的根本原因是,梯度的方向并没有指向最小值的方向。\n",
    "</font>\n",
    "<br>\n",
    "![](https://raw.githubusercontent.com/massquantity/DL_from_scratch_NOTE/master/pic/ch06_1.png)"
   ]
  },
  {
   "cell_type": "markdown",
   "metadata": {},
   "source": [
    "### Momentum\n",
    "<br>\n",
    "<font size=2>\n",
    "$$\\begin{align*}\n",
    "\\mathbf{v} &= \\alpha \\bf{v} - \\eta \\nabla_{\\boldsymbol{\\theta}} L (\\boldsymbol{\\theta}) \\\\[1ex]\n",
    "\\boldsymbol{\\theta} &= \\boldsymbol{\\theta} + \\mathbf{v} \\\\[3ex]\n",
    "\\mathbf{v} &= \\alpha \\bf{v} - \\eta \\nabla_{\\boldsymbol{\\theta}} \\left(\\frac{1}{m} \\sum\\limits_{i=1}^m L (f(x_i; \\boldsymbol{\\theta}), \\;y_i)\\right) \\\\\n",
    "\\boldsymbol{\\theta} &= \\boldsymbol{\\theta} + \\mathbf{v}\n",
    "\\end{align*}\n",
    "$$  \n",
    "\n",
    "</font>"
   ]
  },
  {
   "cell_type": "code",
   "execution_count": 2,
   "metadata": {},
   "outputs": [],
   "source": [
    "class Momentum:\n",
    "    def __init__(self, lr=0.01, momentum=0.9):\n",
    "        self.lr = lr\n",
    "        self.momentum = momentum\n",
    "        self.v = None\n",
    "        \n",
    "    def update(self, params, grads):\n",
    "        if self.v is None:\n",
    "            self.v = {}\n",
    "            for key, val in params.items():\n",
    "                self.v[key] = np.zeros_like(val)\n",
    "                \n",
    "        for key in params.keys():\n",
    "            self.v[key] = self.momentum * self.v[key] - self.lr * grads[key]\n",
    "            params[key] += self.v[key]"
   ]
  },
  {
   "cell_type": "markdown",
   "metadata": {},
   "source": [
    "### AdaGrad\n",
    "<br>\n",
    "\n",
    "$$\n",
    "\\begin{align*}\n",
    "\\mathbf{h} &= \\mathbf{h} + \\nabla_{\\boldsymbol{\\theta}} L (\\boldsymbol{\\theta}) \\odot \\nabla_{\\boldsymbol{\\theta}} L (\\boldsymbol{\\theta}) \\\\[1ex]\n",
    "\\boldsymbol{\\theta} &= \\boldsymbol{\\theta} - \\frac{\\eta}{\\sqrt{\\mathbf{h}} + \\delta} \\odot \\nabla_{\\boldsymbol{\\theta}} L (\\boldsymbol{\\theta})\n",
    "\\end{align*}\n",
    "$$"
   ]
  },
  {
   "cell_type": "code",
   "execution_count": null,
   "metadata": {},
   "outputs": [],
   "source": [
    "class AdaGrad:\n",
    "    def __init__(self, lr):\n",
    "        self.lr = lr\n",
    "        self.h = None\n",
    "        \n",
    "    def update(self, params, grads):\n",
    "        if self.v is None:\n",
    "            self.h = {}\n",
    "            for key, val in params.items():\n",
    "                self.h[key] = np.zeros_like(val)\n",
    "        \n",
    "        for key in params.keys():\n",
    "            self.h[key] += grads[key] * grads[key]\n",
    "            params[key] -= self.lr * grads[key] / (np.sqrt(self.h[key]) + 1e-7)"
   ]
  },
  {
   "cell_type": "markdown",
   "metadata": {},
   "source": [
    "### RMSprop\n",
    "<br>\n",
    "<font size=2>\n",
    "    AdaGrad 由于 $h$ 的累积，到最后的更新会变得非常缓慢。RMSProp对此的解决办法是逐渐遗忘过去的梯度，以指数衰减平均 (exponentially decaying average) 的形式。Hinton 建议 $\\rho$ 一般取0.9，$\\eta$ 一般取0.001\n",
    "</font>\n",
    "<br><br>\n",
    "\n",
    "$$\n",
    "\\begin{align*}\n",
    "\\mathbf{h} &= \\rho\\,\\mathbf{h} + (1 - \\rho)\\nabla_{\\boldsymbol{\\theta}} L (\\boldsymbol{\\theta}) \\odot \\nabla_{\\boldsymbol{\\theta}} L (\\boldsymbol{\\theta}) \\\\[1ex]\n",
    "\\boldsymbol{\\theta} &= \\boldsymbol{\\theta} - \\frac{\\eta}{\\sqrt{\\mathbf{h}} + \\delta} \\odot \\nabla_{\\boldsymbol{\\theta}} L (\\boldsymbol{\\theta})\n",
    "\\end{align*}\n",
    "$$"
   ]
  },
  {
   "cell_type": "code",
   "execution_count": 4,
   "metadata": {},
   "outputs": [],
   "source": [
    "class RMSprop:\n",
    "    def __init__(self, lr=0.001, decay_rate=0.9):\n",
    "        self.lr = lr\n",
    "        self.decay_rate = decay_rate\n",
    "        self.h = None\n",
    "        \n",
    "    def update(self, params, grads):\n",
    "        if self.h is None:\n",
    "            self.h = {}\n",
    "            for key, val in params.items():\n",
    "                self.h[key] = np.zeros_like(val)\n",
    "                \n",
    "        for key in params.keys():\n",
    "            self.h[key] *= self.decay_rate\n",
    "            self.h[key] += (1 - self.decay_rate) * grads[key] * grads[key]\n",
    "            params[key] -= self.lr * grads[key] / (np.sqrt(self.h[key]) + 1e-7)"
   ]
  },
  {
   "cell_type": "markdown",
   "metadata": {},
   "source": [
    "### Adam\n",
    "<br>\n",
    "$$\n",
    "\\begin{align*}\n",
    "t &= t + 1 \\\\\n",
    "\\mathbf{v} &= \\rho_1 \\bf{v} + (1 - \\rho_1) \\nabla_{\\boldsymbol{\\theta}} L (\\boldsymbol{\\theta}) \\\\[1ex]\n",
    "\\mathbf{h} &= \\rho_2 \\mathbf{h} + (1 - \\rho_2)\\nabla_{\\boldsymbol{\\theta}} L (\\boldsymbol{\\theta}) \\odot \\nabla_{\\boldsymbol{\\theta}} L (\\boldsymbol{\\theta}) \\\\\n",
    "\\hat{\\mathbf{v}} &= \\frac{\\boldsymbol{v}}{1 - \\rho_1^t} \\\\\n",
    "\\hat{\\mathbf{h}} &= \\frac{\\mathbf{h}}{1-  \\rho_2^t} \\\\\n",
    "\\boldsymbol{\\theta} &= \\boldsymbol{\\theta} - \\eta \\frac{\\hat{\\mathbf{v}}}{\\sqrt{\\hat{\\mathbf{r}}}+ \\delta}\n",
    "\\end{align*}\n",
    "$$"
   ]
  },
  {
   "cell_type": "code",
   "execution_count": 5,
   "metadata": {},
   "outputs": [],
   "source": [
    "class Adam:\n",
    "    def __init__(self, rho1=0.9, rho2=0.999, lr=0.001):\n",
    "        self.lr = lr\n",
    "        self.rho1 = rho1\n",
    "        self.rho2 = rho2\n",
    "        self.v = None\n",
    "        self.h = None\n",
    "        self.iter = 0\n",
    "        \n",
    "    def update(self, params, grads):\n",
    "        if self.v is None:\n",
    "            self.v, self.h = {}, {}\n",
    "            for key, val in params.items():\n",
    "                self.v[key] = np.zeros_like(val)\n",
    "                self.h[key] = np.zeros_like(val)\n",
    "                \n",
    "        for key in params.keys():\n",
    "            self.iter += 1\n",
    "            self.v[key] = self.rho1 * self.v[key] + (1 - self.rho1) * grads[key]\n",
    "            self.h[key] = self.rho2 * self.v[key] + (1 - self.rho2) * (grads[key] ** 2)\n",
    "            unbias_v = self.v[key] / (1 - self.rho1 ** self.iter)\n",
    "            unbias_h = self.h[key] / (1 - self.rho2 ** self.iter)\n",
    "            params[key] -= self.lr * unbias_v / (np.sqrt(unbias_h) + 1e-8)"
   ]
  },
  {
   "cell_type": "markdown",
   "metadata": {},
   "source": [
    "<br><br><br>\n",
    "<center>\n",
    "    <font size=6> \n",
    "        **Weight Initialization**\n",
    "    </font>\n",
    "</center>\n",
    "\n",
    "---------"
   ]
  },
  {
   "cell_type": "markdown",
   "metadata": {},
   "source": [
    "<font size=2>\n",
    "不能将权重初始值都设为0，因为这样在反向传播时，拥有相同输入和激活函数的不同神经元的权重会被更新为相同的值，这使得神经网络拥有许多不同的权重的意义丧失了。为了 \"打破均一化 (break symmetry)\"，需要将权重随机初始化。一般从高斯分布或均匀分布中随机抽取值，分布的标准差越大，越有利于权重的多样性。然而过大的权重容易导致梯度爆炸。 另一方面，对于 Sigmoid 来说，过大的权重导致激活值饱和，进而引起梯度消失 (如下图)。\n",
    "相对而言过小的标准差则会造成权重相似。\n",
    "<br><br>\n",
    "一般希望激活值的分布有适当的广度，因为通过在各层间传递多样性的数据，神经网络可以进行高效的学习。\n",
    "<br><br><br>\n",
    "Xavier 初始<br>值： $$\\sigma = \\frac{1}{\\sqrt{n_{\\small{input}}}}$$  适用于 Sigmoid 和 Tanh 函数\n",
    "<br><br><br>\n",
    "He 初始值：  $$\\sigma = \\frac{2}{\\sqrt{n_{\\small{input}}}}$$   适用于 Relu 函数\n",
    "<br><br><br>\n",
    "下图显示不同的初始值和激活函数下，隐藏层激活值的分布: \n",
    "</font>"
   ]
  },
  {
   "cell_type": "code",
   "execution_count": 7,
   "metadata": {},
   "outputs": [],
   "source": [
    "from collections import defaultdict"
   ]
  },
  {
   "cell_type": "code",
   "execution_count": 39,
   "metadata": {},
   "outputs": [
    {
     "data": {
      "image/png": "[encoded data removed]",
      "text/plain": [
       "<matplotlib.figure.Figure at 0x7f33cd067320>"
      ]
     },
     "metadata": {},
     "output_type": "display_data"
    }
   ],
   "source": [
    "def sigmoid(z):\n",
    "    return 1 / (1 + np.exp(-z))\n",
    "\n",
    "def relu(z):\n",
    "    return np.maximum(0, z)\n",
    "\n",
    "def tanh(z):\n",
    "    return np.tanh(z)\n",
    "\n",
    "input_data = np.random.randn(1000, 100)\n",
    "node_num = 100\n",
    "hidden_layer_size = 5\n",
    "activations = defaultdict(list)\n",
    "a = input_data\n",
    "functions = [sigmoid, tanh, relu]\n",
    "weights = [np.random.randn(node_num, node_num) * 1,\n",
    "           np.random.randn(node_num, node_num) * 0.01,\n",
    "           np.random.randn(node_num, node_num) * np.sqrt(1.0 / node_num),\n",
    "           np.random.randn(node_num, node_num) * np.sqrt(2.0 / node_num)]\n",
    "f_names = [\"sigmoid\", \"tanh\", \"relu\"]\n",
    "names = [\"std = 1\", \"std = 0.01\", \"std = Xavier\", \"std = He\"]\n",
    "\n",
    "i = 1\n",
    "plt.figure(figsize=(20, 20))\n",
    "plt.tight_layout()\n",
    "plt.subplots_adjust(wspace=0.05, hspace=0.7)\n",
    "for f, f_name in zip(functions, f_names):\n",
    "    for w, name in zip(weights, names):\n",
    "        for l in range(hidden_layer_size):\n",
    "            z = np.dot(a, w)\n",
    "            a = f(z)\n",
    "            plt.subplot(12, hidden_layer_size, i)\n",
    "            plt.title(\"{} - {} - layer{}\".format(f_name, name, l+1))\n",
    "            if (i-1) % 5 != 0:\n",
    "                plt.yticks([], [])\n",
    "            plt.hist(a.flatten(), 30, range=(0,1))\n",
    "            if name == \"std = He\" and f_name == \"relu\":\n",
    "                plt.ylim(0, 7000)\n",
    "            if (i-1) % 5 == 0:\n",
    "                a = input_data\n",
    "            i += 1"
   ]
  },
  {
   "cell_type": "markdown",
   "metadata": {},
   "source": [
    "<br><br><br>\n",
    "<center>\n",
    "    <font size=6> \n",
    "        **Batch Normalization**\n",
    "    </font>\n",
    "</center>\n",
    "\n",
    "---------"
   ]
  },
  {
   "cell_type": "markdown",
   "metadata": {},
   "source": [
    "\n",
    "Batch Normalization 本质上是一种 adaptive reparametrization 的方法，其优点为：\n",
    "1. 可以使学习快速进行（本来有covariance-shift，学习率调较小，有了 BN 后可以增大学习率）\n",
    "2. 不那么需要依赖初始值了 (参数同乘 k 倍，结果不变，见下图)\n",
    "3. 抑制过拟合（降低 Dropout 等的必要性）\n",
    "4. 缓解梯度爆炸/消失问题 (因为值集中在 0 附近，Sigmoid、Tanh不容易饱和)\n"
   ]
  },
  {
   "cell_type": "markdown",
   "metadata": {},
   "source": [
    "<br>\n",
    "![](https://raw.githubusercontent.com/massquantity/DL_from_scratch_NOTE/master/pic/nn_training/5.png)\n",
    "<br>"
   ]
  },
  {
   "cell_type": "markdown",
   "metadata": {},
   "source": [
    "![](https://raw.githubusercontent.com/massquantity/DL_from_scratch_NOTE/master/pic/ch06_2.png)"
   ]
  },
  {
   "cell_type": "markdown",
   "metadata": {},
   "source": [
    "$$\n",
    "\\begin{align}\n",
    "\\mu_B &= \\frac{1}{m} \\sum\\limits_{i=1}^m x_i \\\\[1ex]\n",
    "\\sigma_B &= \\sqrt{\\frac{1}{m} \\sum\\limits_{i=1}^m (x_i - \\mu_B)^2 + \\delta} \\\\[1ex]\n",
    "\\hat{x}_i &= \\frac{x_i - \\mu_B}{\\sigma_B} \\\\[1ex]\n",
    "y_i &= \\gamma \\hat{x}_i + \\beta\n",
    "\\end{align}\n",
    "$$\n",
    "<br><br>\n",
    "其中一开始 $\\gamma = 1, \\beta = 0$，之后通过学习调整到合适的值。"
   ]
  },
  {
   "cell_type": "markdown",
   "metadata": {},
   "source": [
    "<font size=3>\n",
    "    <center>\n",
    "[Batch Normalization 反向传播](https://kratzert.github.io/2016/02/12/understanding-the-gradient-flow-through-the-batch-normalization-layer.html)\n",
    "    </center>\n",
    "</font>"
   ]
  },
  {
   "cell_type": "code",
   "execution_count": 40,
   "metadata": {},
   "outputs": [],
   "source": [
    "class BatchNormalization:\n",
    "    \"\"\"\n",
    "    http://arxiv.org/abs/1502.03167\n",
    "    \"\"\"\n",
    "    def __init__(self, gamma, beta, momentum=0.9, running_mean=None, running_var=None):\n",
    "        self.gamma = gamma\n",
    "        self.beta = beta\n",
    "        self.momentum = momentum\n",
    "        self.input_shape = None # Conv层的情况下为4维，全连接层的情况下为2维  \n",
    "\n",
    "        # 测试时使用的平均值和方差\n",
    "        self.running_mean = running_mean\n",
    "        self.running_var = running_var  \n",
    "        \n",
    "        # backward时使用的中间数据\n",
    "        self.batch_size = None\n",
    "        self.xc = None\n",
    "        self.std = None\n",
    "        self.dgamma = None\n",
    "        self.dbeta = None\n",
    "\n",
    "    def forward(self, x, train_flg=True):\n",
    "        self.input_shape = x.shape\n",
    "        if x.ndim != 2:\n",
    "            N, C, H, W = x.shape\n",
    "            x = x.reshape(N, -1)\n",
    "\n",
    "        out = self.__forward(x, train_flg)\n",
    "        \n",
    "        return out.reshape(*self.input_shape)\n",
    "            \n",
    "    def __forward(self, x, train_flg):\n",
    "        if self.running_mean is None:\n",
    "            N, D = x.shape\n",
    "            self.running_mean = np.zeros(D)\n",
    "            self.running_var = np.zeros(D)\n",
    "                        \n",
    "        if train_flg:\n",
    "            mu = x.mean(axis=0)\n",
    "            xc = x - mu\n",
    "            var = np.mean(xc**2, axis=0)\n",
    "            std = np.sqrt(var + 10e-7)\n",
    "            xn = xc / std\n",
    "            \n",
    "            self.batch_size = x.shape[0]\n",
    "            self.xc = xc\n",
    "            self.xn = xn\n",
    "            self.std = std\n",
    "            self.running_mean = self.momentum * self.running_mean + (1-self.momentum) * mu\n",
    "            self.running_var = self.momentum * self.running_var + (1-self.momentum) * var            \n",
    "        else:\n",
    "            xc = x - self.running_mean\n",
    "            xn = xc / ((np.sqrt(self.running_var + 10e-7)))\n",
    "            \n",
    "        out = self.gamma * xn + self.beta \n",
    "        return out\n",
    "\n",
    "    def backward(self, dout):\n",
    "        if dout.ndim != 2:\n",
    "            N, C, H, W = dout.shape\n",
    "            dout = dout.reshape(N, -1)\n",
    "\n",
    "        dx = self.__backward(dout)\n",
    "\n",
    "        dx = dx.reshape(*self.input_shape)\n",
    "        return dx\n",
    "\n",
    "    def __backward(self, dout):\n",
    "        dbeta = dout.sum(axis=0)\n",
    "        dgamma = np.sum(self.xn * dout, axis=0)\n",
    "        dxn = self.gamma * dout\n",
    "        dxc = dxn / self.std\n",
    "        dstd = -np.sum((dxn * self.xc) / (self.std * self.std), axis=0)\n",
    "        dvar = 0.5 * dstd / self.std\n",
    "        dxc += (2.0 / self.batch_size) * self.xc * dvar\n",
    "        dmu = np.sum(dxc, axis=0)\n",
    "        dx = dxc - dmu / self.batch_size\n",
    "        \n",
    "        self.dgamma = dgamma\n",
    "        self.dbeta = dbeta\n",
    "        \n",
    "        return dx"
   ]
  },
  {
   "cell_type": "markdown",
   "metadata": {},
   "source": [
    "<br><br><br>\n",
    "<center>\n",
    "    <font size=6> \n",
    "        **Dropout**\n",
    "    </font>\n",
    "</center>\n",
    "\n",
    "---------"
   ]
  },
  {
   "cell_type": "markdown",
   "metadata": {},
   "source": [
    "![](https://raw.githubusercontent.com/massquantity/DL_from_scratch_NOTE/master/pic/ch06_3.png)"
   ]
  },
  {
   "cell_type": "markdown",
   "metadata": {},
   "source": [
    "<font size=2>\n",
    "Dropout 是一种在学习的过程中随机删除神经元的方法。训练时，随机选出隐藏层的神经元,然后将其删除。被删除的神经元不再进行信号的传递。训练时，每传递一次数据，就会随机选择要删除的神经元。然后测试时，虽然会传递所有的神经元信号，**但是对于各个神经元的输出，要乘上训练时的删除比例后再输出**。\n",
    "</font>"
   ]
  },
  {
   "cell_type": "code",
   "execution_count": 43,
   "metadata": {},
   "outputs": [],
   "source": [
    "class Dropout:\n",
    "    def __init__(self, dropout_rate=0.5):\n",
    "        self.dropout_rate = dropout_rate\n",
    "        self.mask = None\n",
    "        \n",
    "    def forward(self, x, train_flg=True):\n",
    "        if train_flg:\n",
    "            self.mask = np.random.rand(*x.shape) > self.dropout_ratio\n",
    "            return x * self.mask\n",
    "        else:\n",
    "            return x * (1.0 - self.dropout_rate)\n",
    "        \n",
    "    def backward(self, dout):\n",
    "        return dout * self.mask"
   ]
  },
  {
   "cell_type": "markdown",
   "metadata": {},
   "source": [
    "### 指定超参数搜索范围"
   ]
  },
  {
   "cell_type": "code",
   "execution_count": 50,
   "metadata": {},
   "outputs": [
    {
     "data": {
      "text/plain": [
       "array([1.e-03, 1.e-02, 1.e-01, 1.e+00, 1.e+01, 1.e+02, 1.e+03])"
      ]
     },
     "execution_count": 50,
     "metadata": {},
     "output_type": "execute_result"
    }
   ],
   "source": [
    "np.logspace(-3,3, 7)"
   ]
  },
  {
   "cell_type": "code",
   "execution_count": 52,
   "metadata": {},
   "outputs": [
    {
     "data": {
      "text/plain": [
       "5.872725780455652e-07"
      ]
     },
     "execution_count": 52,
     "metadata": {},
     "output_type": "execute_result"
    }
   ],
   "source": [
    "weight_decay = 10 ** np.random.uniform(-8, -4)\n",
    "weight_decay"
   ]
  },
  {
   "cell_type": "markdown",
   "metadata": {},
   "source": [
    "## Maxout"
   ]
  },
  {
   "cell_type": "markdown",
   "metadata": {},
   "source": [
    "<font size=2>\n",
    "    Maxout 是一种可以自动学习的 activation function，ReLU 可视为 Maxout 的特例。Maxout 单元的输入是上一层神经元的全部原始输入，因而是一个向量，其将上一层的神经元分成不同的组，每个组取最大值：\n",
    "    <br><br>\n",
    "    $$g(\\textbf{z})_i = \\sum\\limits_{j \\in \\mathbb{G}^{(i)}} z_j$$\n",
    "    <br>\n",
    "    \n",
    "    Maxout 相当于学习了一个分段线性函数 (piecewise linear function)，Maxout可以模拟 ReLU 的效果，也可以模拟leaky ReLU，Parametric ReLU 或其他任何凸函数。 因为分成 k 段，所以 Maxout 有k个参数，因而比 ReLU 需要更多的正则化。\n",
    "</font>"
   ]
  },
  {
   "cell_type": "markdown",
   "metadata": {},
   "source": [
    "![](https://raw.githubusercontent.com/massquantity/DL_from_scratch_NOTE/master/pic/nn_training/2.png)\n",
    "<br>"
   ]
  },
  {
   "cell_type": "markdown",
   "metadata": {},
   "source": [
    "-----\n",
    "<br><br><br>\n",
    "<font size=6>\n",
    "    <center> **L2 & L1 regularization** </center>\n",
    "</font>\n",
    "<br>"
   ]
  },
  {
   "cell_type": "markdown",
   "metadata": {},
   "source": [
    "![](https://raw.githubusercontent.com/massquantity/DL_from_scratch_NOTE/master/pic/nn_training/3.png)\n",
    "\n",
    "![](https://raw.githubusercontent.com/massquantity/DL_from_scratch_NOTE/master/pic/nn_training/4.png)"
   ]
  },
  {
   "cell_type": "markdown",
   "metadata": {},
   "source": [
    "<font size=2>\n",
    "上面的最后 L1 正则化的式子：\n",
    "<br><br>\n",
    "$$\n",
    "\\begin{align*}\n",
    "& \\quad\\;\\; w^t - \\eta \\frac{\\partial \\mathcal{L}}{\\partial w} - \\eta \\, \\lambda\\, \\text{sign}(w) \\\\[1ex]\n",
    "& = \n",
    "\\begin{cases}\n",
    "w^t - \\eta \\frac{\\partial \\mathcal{L}}{\\partial w} - \\eta \\, \\lambda , & \\text{if}  \\;w > 0 \\\\[1ex]\n",
    "w^t - \\eta \\frac{\\partial \\mathcal{L}}{\\partial w} + \\eta \\, \\lambda , & \\text{if}  \\; w < 0\n",
    "\\end{cases}\n",
    "\\end{align*}\n",
    "$$\n",
    "   <BR><BR>\n",
    "       \n",
    "对比 L2 和 L1 正则化，L2 每次乘以 $(1-\\eta \\, \\lambda)$ 以使 $w$ 减小，L1 每次以固定的值 $\\pm \\eta \\lambda$ 来使 $w$ 向零靠近。 如果 $w$ 很大，使用 L2 会下降很快，而 L1 每次是固定的值，所以下降很慢。\n",
    "<br>\n",
    "L2 因为每次乘以 $(1-\\eta \\, \\lambda)$ 所以会保留很多小的 $w$ ，因而比较平均。而 L1 则不会保留小的 $w$，结果是得到一些大的 $w$ 和其他大部分 $w$ 为零。\n",
    "</font>"
   ]
  },
  {
   "cell_type": "markdown",
   "metadata": {},
   "source": [
    "<br><br><br>\n",
    "<center>\n",
    "    <font size=6> **Tuning Learning Rate** </font>\n",
    "</center>\n",
    "\n",
    "-----"
   ]
  },
  {
   "cell_type": "markdown",
   "metadata": {},
   "source": [
    "**learning rate** 是训练神经网络最重要的参数之一，设得太大跨过 global minimum，太小则容易卡在 local minimum。"
   ]
  },
  {
   "cell_type": "code",
   "execution_count": null,
   "metadata": {},
   "outputs": [],
   "source": []
  },
  {
   "cell_type": "code",
   "execution_count": null,
   "metadata": {},
   "outputs": [],
   "source": []
  },
  {
   "cell_type": "code",
   "execution_count": null,
   "metadata": {},
   "outputs": [],
   "source": []
  },
  {
   "cell_type": "code",
   "execution_count": null,
   "metadata": {},
   "outputs": [],
   "source": []
  },
  {
   "cell_type": "code",
   "execution_count": null,
   "metadata": {},
   "outputs": [],
   "source": []
  },
  {
   "cell_type": "code",
   "execution_count": null,
   "metadata": {},
   "outputs": [],
   "source": []
  },
  {
   "cell_type": "code",
   "execution_count": null,
   "metadata": {},
   "outputs": [],
   "source": []
  },
  {
   "cell_type": "code",
   "execution_count": null,
   "metadata": {},
   "outputs": [],
   "source": []
  },
  {
   "cell_type": "code",
   "execution_count": null,
   "metadata": {},
   "outputs": [],
   "source": []
  },
  {
   "cell_type": "code",
   "execution_count": null,
   "metadata": {},
   "outputs": [],
   "source": []
  },
  {
   "cell_type": "code",
   "execution_count": null,
   "metadata": {},
   "outputs": [],
   "source": []
  },
  {
   "cell_type": "code",
   "execution_count": null,
   "metadata": {},
   "outputs": [],
   "source": []
  },
  {
   "cell_type": "code",
   "execution_count": null,
   "metadata": {},
   "outputs": [],
   "source": []
  },
  {
   "cell_type": "code",
   "execution_count": null,
   "metadata": {},
   "outputs": [],
   "source": []
  },
  {
   "cell_type": "code",
   "execution_count": null,
   "metadata": {},
   "outputs": [],
   "source": []
  },
  {
   "cell_type": "code",
   "execution_count": null,
   "metadata": {},
   "outputs": [],
   "source": []
  },
  {
   "cell_type": "code",
   "execution_count": null,
   "metadata": {},
   "outputs": [],
   "source": []
  }
 ],
 "metadata": {
  "kernelspec": {
   "display_name": "Python 3",
   "language": "python",
   "name": "python3"
  },
  "language_info": {
   "codemirror_mode": {
    "name": "ipython",
    "version": 3
   },
   "file_extension": ".py",
   "mimetype": "text/x-python",
   "name": "python",
   "nbconvert_exporter": "python",
   "pygments_lexer": "ipython3",
   "version": "3.5.4"
  }
 },
 "nbformat": 4,
 "nbformat_minor": 2
}
