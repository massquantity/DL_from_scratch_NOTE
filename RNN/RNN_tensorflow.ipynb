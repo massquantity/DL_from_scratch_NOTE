{
 "cells": [
  {
   "cell_type": "code",
   "execution_count": 1,
   "metadata": {},
   "outputs": [],
   "source": [
    "import warnings\n",
    "warnings.filterwarnings(\"ignore\")\n",
    "import os, time, sys\n",
    "from pathlib import Path\n",
    "import numpy as np\n",
    "import pandas as pd\n",
    "import matplotlib\n",
    "import matplotlib.pyplot as plt\n",
    "import tensorflow as tf"
   ]
  },
  {
   "cell_type": "markdown",
   "metadata": {},
   "source": [
    "[TensorFlow中RNN实现的正确打开方式\n",
    "](https://zhuanlan.zhihu.com/p/28196873)"
   ]
  },
  {
   "cell_type": "code",
   "execution_count": 3,
   "metadata": {},
   "outputs": [
    {
     "name": "stdout",
     "output_type": "stream",
     "text": [
      "128 128\n"
     ]
    }
   ],
   "source": [
    "cell = tf.nn.rnn_cell.BasicRNNCell(num_units=128)\n",
    "print(cell.state_size, cell.output_size)"
   ]
  },
  {
   "cell_type": "code",
   "execution_count": 4,
   "metadata": {},
   "outputs": [
    {
     "name": "stdout",
     "output_type": "stream",
     "text": [
      "Tensor(\"basic_rnn_cell/Tanh:0\", shape=(32, 128), dtype=float32)\n",
      "Tensor(\"basic_rnn_cell/Tanh:0\", shape=(32, 128), dtype=float32)\n"
     ]
    }
   ],
   "source": [
    "inputs = tf.placeholder(np.float32, shape=(32, 100))\n",
    "h0 = cell.zero_state(32, np.float32)  # 通过zero_state得到一个全0的初始状态\n",
    "outputs, h1 = cell.__call__(inputs, h0)  # call 一个 time step\n",
    "print(outputs)\n",
    "print(h1)"
   ]
  },
  {
   "cell_type": "code",
   "execution_count": 6,
   "metadata": {},
   "outputs": [
    {
     "name": "stdout",
     "output_type": "stream",
     "text": [
      "Tensor(\"basic_lstm_cell_1/Mul_2:0\", shape=(32, 128), dtype=float32)\n",
      "Tensor(\"basic_lstm_cell_1/Add_1:0\", shape=(32, 128), dtype=float32)\n"
     ]
    }
   ],
   "source": [
    "lstm_cell = tf.nn.rnn_cell.BasicLSTMCell(num_units=128)   # LSTM\n",
    "inputs = tf.placeholder(np.float32, shape=(32, 100)) \n",
    "h0 = lstm_cell.zero_state(32, np.float32) \n",
    "outputs, h1 = lstm_cell.__call__(inputs, h0)\n",
    "\n",
    "print(h1.h)  # shape=(32, 128)\n",
    "print(h1.c)  # shape=(32, 128)"
   ]
  },
  {
   "cell_type": "code",
   "execution_count": 7,
   "metadata": {},
   "outputs": [
    {
     "name": "stdout",
     "output_type": "stream",
     "text": [
      "(LSTMStateTuple(c=128, h=128), LSTMStateTuple(c=128, h=128), LSTMStateTuple(c=128, h=128)) 128\n"
     ]
    }
   ],
   "source": [
    "def get_a_cell():\n",
    "    return tf.nn.rnn_cell.LSTMCell(num_units=128)\n",
    "\n",
    "cell = tf.nn.rnn_cell.MultiRNNCell([get_a_cell() for _ in range(3)])  # MultiRNNCell\n",
    "print(cell.state_size, cell.output_size)"
   ]
  },
  {
   "cell_type": "code",
   "execution_count": 8,
   "metadata": {},
   "outputs": [
    {
     "data": {
      "text/plain": [
       "(LSTMStateTuple(c=<tf.Tensor 'multi_rnn_cell/cell_0/lstm_cell/add_1:0' shape=(32, 128) dtype=float32>, h=<tf.Tensor 'multi_rnn_cell/cell_0/lstm_cell/mul_2:0' shape=(32, 128) dtype=float32>),\n",
       " LSTMStateTuple(c=<tf.Tensor 'multi_rnn_cell/cell_1/lstm_cell/add_1:0' shape=(32, 128) dtype=float32>, h=<tf.Tensor 'multi_rnn_cell/cell_1/lstm_cell/mul_2:0' shape=(32, 128) dtype=float32>),\n",
       " LSTMStateTuple(c=<tf.Tensor 'multi_rnn_cell/cell_2/lstm_cell/add_1:0' shape=(32, 128) dtype=float32>, h=<tf.Tensor 'multi_rnn_cell/cell_2/lstm_cell/mul_2:0' shape=(32, 128) dtype=float32>))"
      ]
     },
     "execution_count": 8,
     "metadata": {},
     "output_type": "execute_result"
    }
   ],
   "source": [
    "inputs = tf.placeholder(tf.float32, shape=(32, 100))\n",
    "h0 = cell.zero_state(32, tf.float32)\n",
    "outputs, h1 = cell.__call__(inputs, h0)\n",
    "h1"
   ]
  },
  {
   "cell_type": "code",
   "execution_count": 9,
   "metadata": {},
   "outputs": [
    {
     "data": {
      "text/plain": [
       "<tf.Tensor 'multi_rnn_cell/cell_2/lstm_cell/mul_2:0' shape=(32, 128) dtype=float32>"
      ]
     },
     "execution_count": 9,
     "metadata": {},
     "output_type": "execute_result"
    }
   ],
   "source": [
    "outputs"
   ]
  },
  {
   "cell_type": "code",
   "execution_count": 10,
   "metadata": {},
   "outputs": [
    {
     "data": {
      "text/plain": [
       "True"
      ]
     },
     "execution_count": 10,
     "metadata": {},
     "output_type": "execute_result"
    }
   ],
   "source": [
    "h1[2][1] == outputs  # state 的最后一个与 output 相等"
   ]
  },
  {
   "cell_type": "code",
   "execution_count": 11,
   "metadata": {},
   "outputs": [],
   "source": [
    "tf.reset_default_graph()"
   ]
  },
  {
   "cell_type": "code",
   "execution_count": 12,
   "metadata": {},
   "outputs": [],
   "source": [
    "def get_a_cell():\n",
    "    return tf.nn.rnn_cell.LSTMCell(num_units=128)\n",
    "\n",
    "cell = tf.nn.rnn_cell.MultiRNNCell([get_a_cell() for _ in range(3)])\n",
    "\n",
    "inputs = tf.placeholder(tf.float32, shape=(32, 100, 50))\n",
    "outputs, state = tf.nn.dynamic_rnn(cell, inputs, dtype=tf.float32)  # dynamic RNN"
   ]
  },
  {
   "cell_type": "code",
   "execution_count": 13,
   "metadata": {},
   "outputs": [
    {
     "data": {
      "text/plain": [
       "(<tf.Tensor 'rnn/transpose_1:0' shape=(32, 100, 128) dtype=float32>, 100)"
      ]
     },
     "execution_count": 13,
     "metadata": {},
     "output_type": "execute_result"
    }
   ],
   "source": [
    "outputs, len(tf.unstack(outputs, axis=1))"
   ]
  },
  {
   "cell_type": "code",
   "execution_count": 14,
   "metadata": {},
   "outputs": [
    {
     "data": {
      "text/plain": [
       "(LSTMStateTuple(c=<tf.Tensor 'rnn/while/Exit_3:0' shape=(32, 128) dtype=float32>, h=<tf.Tensor 'rnn/while/Exit_4:0' shape=(32, 128) dtype=float32>),\n",
       " LSTMStateTuple(c=<tf.Tensor 'rnn/while/Exit_5:0' shape=(32, 128) dtype=float32>, h=<tf.Tensor 'rnn/while/Exit_6:0' shape=(32, 128) dtype=float32>),\n",
       " LSTMStateTuple(c=<tf.Tensor 'rnn/while/Exit_7:0' shape=(32, 128) dtype=float32>, h=<tf.Tensor 'rnn/while/Exit_8:0' shape=(32, 128) dtype=float32>))"
      ]
     },
     "execution_count": 14,
     "metadata": {},
     "output_type": "execute_result"
    }
   ],
   "source": [
    "state"
   ]
  },
  {
   "cell_type": "code",
   "execution_count": 15,
   "metadata": {},
   "outputs": [],
   "source": [
    "tf.reset_default_graph()\n",
    "def get_a_cell():\n",
    "    return tf.nn.rnn_cell.LSTMCell(num_units=128)\n",
    "\n",
    "cell = tf.nn.rnn_cell.MultiRNNCell([get_a_cell() for _ in range(3)])\n",
    "\n",
    "inputs = tf.placeholder(tf.float32, shape=(32, 100, 50))\n",
    "inputs = tf.unstack(inputs, axis=1)\n",
    "outputs, state = tf.nn.static_rnn(cell, inputs, dtype=tf.float32)  # static rnn"
   ]
  },
  {
   "cell_type": "code",
   "execution_count": 16,
   "metadata": {
    "scrolled": true
   },
   "outputs": [
    {
     "data": {
      "text/plain": [
       "[<tf.Tensor 'rnn/rnn/multi_rnn_cell/cell_2/lstm_cell/mul_2:0' shape=(32, 128) dtype=float32>,\n",
       " <tf.Tensor 'rnn/rnn/multi_rnn_cell/cell_2/lstm_cell/mul_5:0' shape=(32, 128) dtype=float32>,\n",
       " <tf.Tensor 'rnn/rnn/multi_rnn_cell/cell_2/lstm_cell/mul_8:0' shape=(32, 128) dtype=float32>,\n",
       " <tf.Tensor 'rnn/rnn/multi_rnn_cell/cell_2/lstm_cell/mul_11:0' shape=(32, 128) dtype=float32>,\n",
       " <tf.Tensor 'rnn/rnn/multi_rnn_cell/cell_2/lstm_cell/mul_14:0' shape=(32, 128) dtype=float32>,\n",
       " <tf.Tensor 'rnn/rnn/multi_rnn_cell/cell_2/lstm_cell/mul_17:0' shape=(32, 128) dtype=float32>,\n",
       " <tf.Tensor 'rnn/rnn/multi_rnn_cell/cell_2/lstm_cell/mul_20:0' shape=(32, 128) dtype=float32>,\n",
       " <tf.Tensor 'rnn/rnn/multi_rnn_cell/cell_2/lstm_cell/mul_23:0' shape=(32, 128) dtype=float32>,\n",
       " <tf.Tensor 'rnn/rnn/multi_rnn_cell/cell_2/lstm_cell/mul_26:0' shape=(32, 128) dtype=float32>,\n",
       " <tf.Tensor 'rnn/rnn/multi_rnn_cell/cell_2/lstm_cell/mul_29:0' shape=(32, 128) dtype=float32>,\n",
       " <tf.Tensor 'rnn/rnn/multi_rnn_cell/cell_2/lstm_cell/mul_32:0' shape=(32, 128) dtype=float32>,\n",
       " <tf.Tensor 'rnn/rnn/multi_rnn_cell/cell_2/lstm_cell/mul_35:0' shape=(32, 128) dtype=float32>,\n",
       " <tf.Tensor 'rnn/rnn/multi_rnn_cell/cell_2/lstm_cell/mul_38:0' shape=(32, 128) dtype=float32>,\n",
       " <tf.Tensor 'rnn/rnn/multi_rnn_cell/cell_2/lstm_cell/mul_41:0' shape=(32, 128) dtype=float32>,\n",
       " <tf.Tensor 'rnn/rnn/multi_rnn_cell/cell_2/lstm_cell/mul_44:0' shape=(32, 128) dtype=float32>,\n",
       " <tf.Tensor 'rnn/rnn/multi_rnn_cell/cell_2/lstm_cell/mul_47:0' shape=(32, 128) dtype=float32>,\n",
       " <tf.Tensor 'rnn/rnn/multi_rnn_cell/cell_2/lstm_cell/mul_50:0' shape=(32, 128) dtype=float32>,\n",
       " <tf.Tensor 'rnn/rnn/multi_rnn_cell/cell_2/lstm_cell/mul_53:0' shape=(32, 128) dtype=float32>,\n",
       " <tf.Tensor 'rnn/rnn/multi_rnn_cell/cell_2/lstm_cell/mul_56:0' shape=(32, 128) dtype=float32>,\n",
       " <tf.Tensor 'rnn/rnn/multi_rnn_cell/cell_2/lstm_cell/mul_59:0' shape=(32, 128) dtype=float32>,\n",
       " <tf.Tensor 'rnn/rnn/multi_rnn_cell/cell_2/lstm_cell/mul_62:0' shape=(32, 128) dtype=float32>,\n",
       " <tf.Tensor 'rnn/rnn/multi_rnn_cell/cell_2/lstm_cell/mul_65:0' shape=(32, 128) dtype=float32>,\n",
       " <tf.Tensor 'rnn/rnn/multi_rnn_cell/cell_2/lstm_cell/mul_68:0' shape=(32, 128) dtype=float32>,\n",
       " <tf.Tensor 'rnn/rnn/multi_rnn_cell/cell_2/lstm_cell/mul_71:0' shape=(32, 128) dtype=float32>,\n",
       " <tf.Tensor 'rnn/rnn/multi_rnn_cell/cell_2/lstm_cell/mul_74:0' shape=(32, 128) dtype=float32>,\n",
       " <tf.Tensor 'rnn/rnn/multi_rnn_cell/cell_2/lstm_cell/mul_77:0' shape=(32, 128) dtype=float32>,\n",
       " <tf.Tensor 'rnn/rnn/multi_rnn_cell/cell_2/lstm_cell/mul_80:0' shape=(32, 128) dtype=float32>,\n",
       " <tf.Tensor 'rnn/rnn/multi_rnn_cell/cell_2/lstm_cell/mul_83:0' shape=(32, 128) dtype=float32>,\n",
       " <tf.Tensor 'rnn/rnn/multi_rnn_cell/cell_2/lstm_cell/mul_86:0' shape=(32, 128) dtype=float32>,\n",
       " <tf.Tensor 'rnn/rnn/multi_rnn_cell/cell_2/lstm_cell/mul_89:0' shape=(32, 128) dtype=float32>,\n",
       " <tf.Tensor 'rnn/rnn/multi_rnn_cell/cell_2/lstm_cell/mul_92:0' shape=(32, 128) dtype=float32>,\n",
       " <tf.Tensor 'rnn/rnn/multi_rnn_cell/cell_2/lstm_cell/mul_95:0' shape=(32, 128) dtype=float32>,\n",
       " <tf.Tensor 'rnn/rnn/multi_rnn_cell/cell_2/lstm_cell/mul_98:0' shape=(32, 128) dtype=float32>,\n",
       " <tf.Tensor 'rnn/rnn/multi_rnn_cell/cell_2/lstm_cell/mul_101:0' shape=(32, 128) dtype=float32>,\n",
       " <tf.Tensor 'rnn/rnn/multi_rnn_cell/cell_2/lstm_cell/mul_104:0' shape=(32, 128) dtype=float32>,\n",
       " <tf.Tensor 'rnn/rnn/multi_rnn_cell/cell_2/lstm_cell/mul_107:0' shape=(32, 128) dtype=float32>,\n",
       " <tf.Tensor 'rnn/rnn/multi_rnn_cell/cell_2/lstm_cell/mul_110:0' shape=(32, 128) dtype=float32>,\n",
       " <tf.Tensor 'rnn/rnn/multi_rnn_cell/cell_2/lstm_cell/mul_113:0' shape=(32, 128) dtype=float32>,\n",
       " <tf.Tensor 'rnn/rnn/multi_rnn_cell/cell_2/lstm_cell/mul_116:0' shape=(32, 128) dtype=float32>,\n",
       " <tf.Tensor 'rnn/rnn/multi_rnn_cell/cell_2/lstm_cell/mul_119:0' shape=(32, 128) dtype=float32>,\n",
       " <tf.Tensor 'rnn/rnn/multi_rnn_cell/cell_2/lstm_cell/mul_122:0' shape=(32, 128) dtype=float32>,\n",
       " <tf.Tensor 'rnn/rnn/multi_rnn_cell/cell_2/lstm_cell/mul_125:0' shape=(32, 128) dtype=float32>,\n",
       " <tf.Tensor 'rnn/rnn/multi_rnn_cell/cell_2/lstm_cell/mul_128:0' shape=(32, 128) dtype=float32>,\n",
       " <tf.Tensor 'rnn/rnn/multi_rnn_cell/cell_2/lstm_cell/mul_131:0' shape=(32, 128) dtype=float32>,\n",
       " <tf.Tensor 'rnn/rnn/multi_rnn_cell/cell_2/lstm_cell/mul_134:0' shape=(32, 128) dtype=float32>,\n",
       " <tf.Tensor 'rnn/rnn/multi_rnn_cell/cell_2/lstm_cell/mul_137:0' shape=(32, 128) dtype=float32>,\n",
       " <tf.Tensor 'rnn/rnn/multi_rnn_cell/cell_2/lstm_cell/mul_140:0' shape=(32, 128) dtype=float32>,\n",
       " <tf.Tensor 'rnn/rnn/multi_rnn_cell/cell_2/lstm_cell/mul_143:0' shape=(32, 128) dtype=float32>,\n",
       " <tf.Tensor 'rnn/rnn/multi_rnn_cell/cell_2/lstm_cell/mul_146:0' shape=(32, 128) dtype=float32>,\n",
       " <tf.Tensor 'rnn/rnn/multi_rnn_cell/cell_2/lstm_cell/mul_149:0' shape=(32, 128) dtype=float32>,\n",
       " <tf.Tensor 'rnn/rnn/multi_rnn_cell/cell_2/lstm_cell/mul_152:0' shape=(32, 128) dtype=float32>,\n",
       " <tf.Tensor 'rnn/rnn/multi_rnn_cell/cell_2/lstm_cell/mul_155:0' shape=(32, 128) dtype=float32>,\n",
       " <tf.Tensor 'rnn/rnn/multi_rnn_cell/cell_2/lstm_cell/mul_158:0' shape=(32, 128) dtype=float32>,\n",
       " <tf.Tensor 'rnn/rnn/multi_rnn_cell/cell_2/lstm_cell/mul_161:0' shape=(32, 128) dtype=float32>,\n",
       " <tf.Tensor 'rnn/rnn/multi_rnn_cell/cell_2/lstm_cell/mul_164:0' shape=(32, 128) dtype=float32>,\n",
       " <tf.Tensor 'rnn/rnn/multi_rnn_cell/cell_2/lstm_cell/mul_167:0' shape=(32, 128) dtype=float32>,\n",
       " <tf.Tensor 'rnn/rnn/multi_rnn_cell/cell_2/lstm_cell/mul_170:0' shape=(32, 128) dtype=float32>,\n",
       " <tf.Tensor 'rnn/rnn/multi_rnn_cell/cell_2/lstm_cell/mul_173:0' shape=(32, 128) dtype=float32>,\n",
       " <tf.Tensor 'rnn/rnn/multi_rnn_cell/cell_2/lstm_cell/mul_176:0' shape=(32, 128) dtype=float32>,\n",
       " <tf.Tensor 'rnn/rnn/multi_rnn_cell/cell_2/lstm_cell/mul_179:0' shape=(32, 128) dtype=float32>,\n",
       " <tf.Tensor 'rnn/rnn/multi_rnn_cell/cell_2/lstm_cell/mul_182:0' shape=(32, 128) dtype=float32>,\n",
       " <tf.Tensor 'rnn/rnn/multi_rnn_cell/cell_2/lstm_cell/mul_185:0' shape=(32, 128) dtype=float32>,\n",
       " <tf.Tensor 'rnn/rnn/multi_rnn_cell/cell_2/lstm_cell/mul_188:0' shape=(32, 128) dtype=float32>,\n",
       " <tf.Tensor 'rnn/rnn/multi_rnn_cell/cell_2/lstm_cell/mul_191:0' shape=(32, 128) dtype=float32>,\n",
       " <tf.Tensor 'rnn/rnn/multi_rnn_cell/cell_2/lstm_cell/mul_194:0' shape=(32, 128) dtype=float32>,\n",
       " <tf.Tensor 'rnn/rnn/multi_rnn_cell/cell_2/lstm_cell/mul_197:0' shape=(32, 128) dtype=float32>,\n",
       " <tf.Tensor 'rnn/rnn/multi_rnn_cell/cell_2/lstm_cell/mul_200:0' shape=(32, 128) dtype=float32>,\n",
       " <tf.Tensor 'rnn/rnn/multi_rnn_cell/cell_2/lstm_cell/mul_203:0' shape=(32, 128) dtype=float32>,\n",
       " <tf.Tensor 'rnn/rnn/multi_rnn_cell/cell_2/lstm_cell/mul_206:0' shape=(32, 128) dtype=float32>,\n",
       " <tf.Tensor 'rnn/rnn/multi_rnn_cell/cell_2/lstm_cell/mul_209:0' shape=(32, 128) dtype=float32>,\n",
       " <tf.Tensor 'rnn/rnn/multi_rnn_cell/cell_2/lstm_cell/mul_212:0' shape=(32, 128) dtype=float32>,\n",
       " <tf.Tensor 'rnn/rnn/multi_rnn_cell/cell_2/lstm_cell/mul_215:0' shape=(32, 128) dtype=float32>,\n",
       " <tf.Tensor 'rnn/rnn/multi_rnn_cell/cell_2/lstm_cell/mul_218:0' shape=(32, 128) dtype=float32>,\n",
       " <tf.Tensor 'rnn/rnn/multi_rnn_cell/cell_2/lstm_cell/mul_221:0' shape=(32, 128) dtype=float32>,\n",
       " <tf.Tensor 'rnn/rnn/multi_rnn_cell/cell_2/lstm_cell/mul_224:0' shape=(32, 128) dtype=float32>,\n",
       " <tf.Tensor 'rnn/rnn/multi_rnn_cell/cell_2/lstm_cell/mul_227:0' shape=(32, 128) dtype=float32>,\n",
       " <tf.Tensor 'rnn/rnn/multi_rnn_cell/cell_2/lstm_cell/mul_230:0' shape=(32, 128) dtype=float32>,\n",
       " <tf.Tensor 'rnn/rnn/multi_rnn_cell/cell_2/lstm_cell/mul_233:0' shape=(32, 128) dtype=float32>,\n",
       " <tf.Tensor 'rnn/rnn/multi_rnn_cell/cell_2/lstm_cell/mul_236:0' shape=(32, 128) dtype=float32>,\n",
       " <tf.Tensor 'rnn/rnn/multi_rnn_cell/cell_2/lstm_cell/mul_239:0' shape=(32, 128) dtype=float32>,\n",
       " <tf.Tensor 'rnn/rnn/multi_rnn_cell/cell_2/lstm_cell/mul_242:0' shape=(32, 128) dtype=float32>,\n",
       " <tf.Tensor 'rnn/rnn/multi_rnn_cell/cell_2/lstm_cell/mul_245:0' shape=(32, 128) dtype=float32>,\n",
       " <tf.Tensor 'rnn/rnn/multi_rnn_cell/cell_2/lstm_cell/mul_248:0' shape=(32, 128) dtype=float32>,\n",
       " <tf.Tensor 'rnn/rnn/multi_rnn_cell/cell_2/lstm_cell/mul_251:0' shape=(32, 128) dtype=float32>,\n",
       " <tf.Tensor 'rnn/rnn/multi_rnn_cell/cell_2/lstm_cell/mul_254:0' shape=(32, 128) dtype=float32>,\n",
       " <tf.Tensor 'rnn/rnn/multi_rnn_cell/cell_2/lstm_cell/mul_257:0' shape=(32, 128) dtype=float32>,\n",
       " <tf.Tensor 'rnn/rnn/multi_rnn_cell/cell_2/lstm_cell/mul_260:0' shape=(32, 128) dtype=float32>,\n",
       " <tf.Tensor 'rnn/rnn/multi_rnn_cell/cell_2/lstm_cell/mul_263:0' shape=(32, 128) dtype=float32>,\n",
       " <tf.Tensor 'rnn/rnn/multi_rnn_cell/cell_2/lstm_cell/mul_266:0' shape=(32, 128) dtype=float32>,\n",
       " <tf.Tensor 'rnn/rnn/multi_rnn_cell/cell_2/lstm_cell/mul_269:0' shape=(32, 128) dtype=float32>,\n",
       " <tf.Tensor 'rnn/rnn/multi_rnn_cell/cell_2/lstm_cell/mul_272:0' shape=(32, 128) dtype=float32>,\n",
       " <tf.Tensor 'rnn/rnn/multi_rnn_cell/cell_2/lstm_cell/mul_275:0' shape=(32, 128) dtype=float32>,\n",
       " <tf.Tensor 'rnn/rnn/multi_rnn_cell/cell_2/lstm_cell/mul_278:0' shape=(32, 128) dtype=float32>,\n",
       " <tf.Tensor 'rnn/rnn/multi_rnn_cell/cell_2/lstm_cell/mul_281:0' shape=(32, 128) dtype=float32>,\n",
       " <tf.Tensor 'rnn/rnn/multi_rnn_cell/cell_2/lstm_cell/mul_284:0' shape=(32, 128) dtype=float32>,\n",
       " <tf.Tensor 'rnn/rnn/multi_rnn_cell/cell_2/lstm_cell/mul_287:0' shape=(32, 128) dtype=float32>,\n",
       " <tf.Tensor 'rnn/rnn/multi_rnn_cell/cell_2/lstm_cell/mul_290:0' shape=(32, 128) dtype=float32>,\n",
       " <tf.Tensor 'rnn/rnn/multi_rnn_cell/cell_2/lstm_cell/mul_293:0' shape=(32, 128) dtype=float32>,\n",
       " <tf.Tensor 'rnn/rnn/multi_rnn_cell/cell_2/lstm_cell/mul_296:0' shape=(32, 128) dtype=float32>,\n",
       " <tf.Tensor 'rnn/rnn/multi_rnn_cell/cell_2/lstm_cell/mul_299:0' shape=(32, 128) dtype=float32>]"
      ]
     },
     "execution_count": 16,
     "metadata": {},
     "output_type": "execute_result"
    }
   ],
   "source": [
    "outputs"
   ]
  },
  {
   "cell_type": "code",
   "execution_count": 17,
   "metadata": {},
   "outputs": [
    {
     "data": {
      "text/plain": [
       "(LSTMStateTuple(c=<tf.Tensor 'rnn/rnn/multi_rnn_cell/cell_0/lstm_cell/add_199:0' shape=(32, 128) dtype=float32>, h=<tf.Tensor 'rnn/rnn/multi_rnn_cell/cell_0/lstm_cell/mul_299:0' shape=(32, 128) dtype=float32>),\n",
       " LSTMStateTuple(c=<tf.Tensor 'rnn/rnn/multi_rnn_cell/cell_1/lstm_cell/add_199:0' shape=(32, 128) dtype=float32>, h=<tf.Tensor 'rnn/rnn/multi_rnn_cell/cell_1/lstm_cell/mul_299:0' shape=(32, 128) dtype=float32>),\n",
       " LSTMStateTuple(c=<tf.Tensor 'rnn/rnn/multi_rnn_cell/cell_2/lstm_cell/add_199:0' shape=(32, 128) dtype=float32>, h=<tf.Tensor 'rnn/rnn/multi_rnn_cell/cell_2/lstm_cell/mul_299:0' shape=(32, 128) dtype=float32>))"
      ]
     },
     "execution_count": 17,
     "metadata": {},
     "output_type": "execute_result"
    }
   ],
   "source": [
    "state"
   ]
  },
  {
   "cell_type": "code",
   "execution_count": 18,
   "metadata": {},
   "outputs": [
    {
     "data": {
      "text/plain": [
       "True"
      ]
     },
     "execution_count": 18,
     "metadata": {},
     "output_type": "execute_result"
    }
   ],
   "source": [
    "outputs[-1] == state[2][1]"
   ]
  },
  {
   "cell_type": "markdown",
   "metadata": {},
   "source": [
    "### LSTM example"
   ]
  },
  {
   "cell_type": "markdown",
   "metadata": {},
   "source": [
    "[https://github.com/aymericdamien/TensorFlow-Examples/blob/master/examples/3_NeuralNetworks/recurrent_network.py](https://github.com/aymericdamien/TensorFlow-Examples/blob/master/examples/3_NeuralNetworks/recurrent_network.py)"
   ]
  },
  {
   "cell_type": "code",
   "execution_count": 2,
   "metadata": {},
   "outputs": [],
   "source": [
    "(X_train, y_train), (X_test, y_test) = tf.keras.datasets.mnist.load_data()"
   ]
  },
  {
   "cell_type": "code",
   "execution_count": 5,
   "metadata": {},
   "outputs": [],
   "source": [
    "X_train = X_train.astype(np.float32) / 255.0\n",
    "X_test = X_test.astype(np.float32) / 255.0\n",
    "y_train = y_train.astype(np.int32)\n",
    "y_test = y_test.astype(np.int32)"
   ]
  },
  {
   "cell_type": "code",
   "execution_count": 6,
   "metadata": {},
   "outputs": [],
   "source": [
    "num_inputs = 28\n",
    "time_steps = 28\n",
    "num_hidden = 128\n",
    "num_classes = 10\n",
    "learning_rate = 0.001"
   ]
  },
  {
   "cell_type": "code",
   "execution_count": 7,
   "metadata": {},
   "outputs": [],
   "source": [
    "tf.reset_default_graph()"
   ]
  },
  {
   "cell_type": "code",
   "execution_count": 8,
   "metadata": {},
   "outputs": [],
   "source": [
    "X = tf.placeholder(tf.float32, shape=[None, time_steps, num_inputs])\n",
    "y = tf.placeholder(tf.int32, shape=[None])\n",
    "\n",
    "weights = tf.Variable(tf.random_normal([num_hidden, num_classes]))\n",
    "biases = tf.Variable(tf.random_normal([num_classes]))\n",
    "\n",
    "def RNN(x, weights, biases):\n",
    "    x = tf.unstack(x, time_steps, 1)\n",
    "    lstm_cell = tf.nn.rnn_cell.LSTMCell(num_units=num_hidden, forget_bias=1.0)   \n",
    "    outputs, states = tf.nn.static_rnn(lstm_cell, x, dtype=tf.float32)\n",
    "    return tf.matmul(outputs[-1], weights) + biases\n",
    "\n",
    "def RNN2(x, weights, biases):\n",
    "    lstm_cell = tf.nn.rnn_cell.GRUCell(num_units=num_hidden)   ### GRU Cell\n",
    "    outputs, states = tf.nn.dynamic_rnn(lstm_cell, x, dtype=tf.float32)\n",
    " #   outputs = tf.transpose(outputs, [1, 0, 2])\n",
    "  #  return tf.matmul(outputs[-1], weights) + biases\n",
    "  #  return tf.layers.dense(outputs[-1], num_classes)\n",
    "    return tf.layers.dense(tf.reshape(outputs[:, -1, :], (-1, num_hidden)), num_classes)\n",
    "\n",
    "logits = RNN2(X, weights, biases)\n",
    "prediction = tf.nn.softmax(logits)\n",
    "loss = tf.reduce_mean(tf.nn.sparse_softmax_cross_entropy_with_logits(logits=logits, labels=y))\n",
    "# optimizer = tf.train.GradientDescentOptimizer(learning_rate)\n",
    "optimizer = tf.train.AdamOptimizer(learning_rate)\n",
    "training_op = optimizer.minimize(loss)\n",
    "correct = tf.equal(tf.argmax(prediction, 1), tf.cast(y, tf.int64))\n",
    "# correct = tf.nn.in_top_k(logits, y, 1)\n",
    "accuracy = tf.reduce_mean(tf.cast(correct, tf.float32))\n",
    "init = tf.global_variables_initializer()"
   ]
  },
  {
   "cell_type": "code",
   "execution_count": 9,
   "metadata": {},
   "outputs": [],
   "source": [
    "def generate_batch(X, y, batch_size):\n",
    "    rnd_idx = np.random.permutation(len(X))\n",
    "    n_batches = len(X) // batch_size\n",
    "    for batch_idx in np.array_split(rnd_idx, n_batches):\n",
    "        X_batch, y_batch = X[batch_idx], y[batch_idx]\n",
    "        yield X_batch, y_batch"
   ]
  },
  {
   "cell_type": "code",
   "execution_count": 10,
   "metadata": {},
   "outputs": [],
   "source": [
    "class mnist:\n",
    "    def __init__(self, X, y):\n",
    "        indices = np.random.permutation(len(X))\n",
    "        self.X = X[indices]\n",
    "        self.y = y[indices]\n",
    "        self.i = 0\n",
    "        \n",
    "    def generate_batch(self, batch_size):\n",
    "        a = self.X[self.i * batch_size : (self.i + 1) * batch_size]\n",
    "        b = self.y[self.i * batch_size : (self.i + 1) * batch_size]\n",
    "        self.i += 1\n",
    "        return a, b"
   ]
  },
  {
   "cell_type": "code",
   "execution_count": 11,
   "metadata": {},
   "outputs": [],
   "source": [
    "from datetime import datetime\n",
    "now = datetime.utcnow().strftime(\"%Y%m%d%H%M%S\")\n",
    "root_logdir = \"tf_logs\"\n",
    "logdir = \"{}/run-{}\".format(root_logdir, now)\n",
    "\n",
    "loss_summary = tf.summary.scalar(\"Loss\", loss)\n",
    "acc_train_summary = tf.summary.scalar(\"Training_Accuracy\", accuracy)\n",
    "acc_test_summary = tf.summary.scalar(\"Test_Accuracy\", accuracy)\n",
    "file_writer = tf.summary.FileWriter(logdir, tf.get_default_graph())"
   ]
  },
  {
   "cell_type": "code",
   "execution_count": 12,
   "metadata": {},
   "outputs": [
    {
     "name": "stdout",
     "output_type": "stream",
     "text": [
      "Epoch  1 \ttraining loss: 0.14 \ttraining accuracy: 0.97 \ttest accuracy: 0.96 \ttime: 39.84\n",
      "Epoch  2 \ttraining loss: 0.11 \ttraining accuracy: 0.97 \ttest accuracy: 0.97 \ttime: 35.63\n",
      "Epoch  3 \ttraining loss: 0.04 \ttraining accuracy: 0.99 \ttest accuracy: 0.98 \ttime: 35.07\n",
      "Epoch  4 \ttraining loss: 0.01 \ttraining accuracy: 1.00 \ttest accuracy: 0.98 \ttime: 34.84\n",
      "Epoch  5 \ttraining loss: 0.03 \ttraining accuracy: 0.99 \ttest accuracy: 0.98 \ttime: 35.43\n",
      "Epoch  6 \ttraining loss: 0.07 \ttraining accuracy: 0.98 \ttest accuracy: 0.99 \ttime: 35.08\n",
      "Epoch  7 \ttraining loss: 0.03 \ttraining accuracy: 0.98 \ttest accuracy: 0.98 \ttime: 35.07\n",
      "Epoch  8 \ttraining loss: 0.02 \ttraining accuracy: 0.99 \ttest accuracy: 0.99 \ttime: 35.42\n",
      "Epoch  9 \ttraining loss: 0.01 \ttraining accuracy: 1.00 \ttest accuracy: 0.99 \ttime: 35.27\n",
      "Epoch  10 \ttraining loss: 0.02 \ttraining accuracy: 1.00 \ttest accuracy: 0.99 \ttime: 35.62\n"
     ]
    }
   ],
   "source": [
    "learning_rate = 0.001\n",
    "n_epochs = 10\n",
    "batch_size = 128\n",
    "\n",
    "with tf.Session() as sess:  # tensorboard\n",
    "    init.run()\n",
    "    for epoch in range(n_epochs):\n",
    "        start_time = time.time()\n",
    "        data = mnist(X_train, y_train)\n",
    "        n_batch = len(X_train) // batch_size\n",
    "        for i in range(n_batch):\n",
    "            print(\"\\r{}%\".format(100 * i // n_batch), end=\"\")\n",
    "            sys.stdout.flush()\n",
    "            X_batch, y_batch = data.generate_batch(batch_size)\n",
    "            sess.run(training_op, feed_dict={X: X_batch, y: y_batch})\n",
    "        loss_train, acc_train = sess.run([loss, accuracy], feed_dict={X: X_batch, y: y_batch})\n",
    "        acc_test = accuracy.eval(feed_dict={X: X_test, y: y_test})\n",
    "        summary_loss, summary_train_acc = sess.run([loss_summary, acc_train_summary], \\\n",
    "                                                    feed_dict={X: X_batch, y: y_batch})\n",
    "        summary_test_acc = sess.run(acc_test_summary, feed_dict={X: X_test, y: y_test})\n",
    "        file_writer.add_summary(summary_loss)\n",
    "        file_writer.add_summary(summary_train_acc)\n",
    "        file_writer.add_summary(summary_test_acc)\n",
    "        print(\"\\rEpoch \", str(epoch + 1), \n",
    "              \"\\ttraining loss: {:.4f}\".format(loss_train), \n",
    "              \"\\ttraining accuracy: {:.4f}\".format(acc_train), \n",
    "              \"\\ttest accuracy: {:.4f}\".format(acc_test), \n",
    "              \"\\ttime: {:.2f}\".format(time.time() - start_time))"
   ]
  },
  {
   "cell_type": "code",
   "execution_count": null,
   "metadata": {},
   "outputs": [],
   "source": []
  },
  {
   "cell_type": "code",
   "execution_count": null,
   "metadata": {},
   "outputs": [],
   "source": []
  },
  {
   "cell_type": "code",
   "execution_count": null,
   "metadata": {},
   "outputs": [],
   "source": []
  },
  {
   "cell_type": "code",
   "execution_count": null,
   "metadata": {},
   "outputs": [],
   "source": []
  },
  {
   "cell_type": "code",
   "execution_count": null,
   "metadata": {},
   "outputs": [],
   "source": []
  }
 ],
 "metadata": {
  "kernelspec": {
   "display_name": "Python 3",
   "language": "python",
   "name": "python3"
  },
  "language_info": {
   "codemirror_mode": {
    "name": "ipython",
    "version": 3
   },
   "file_extension": ".py",
   "mimetype": "text/x-python",
   "name": "python",
   "nbconvert_exporter": "python",
   "pygments_lexer": "ipython3",
   "version": "3.5.4"
  }
 },
 "nbformat": 4,
 "nbformat_minor": 2
}
